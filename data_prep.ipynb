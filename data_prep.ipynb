{
 "cells": [
  {
   "cell_type": "markdown",
   "metadata": {},
   "source": [
    "# EEG data pre-processing"
   ]
  },
  {
   "cell_type": "code",
   "execution_count": 4,
   "metadata": {},
   "outputs": [],
   "source": [
    "import pandas as pd\n",
    "import torch"
   ]
  },
  {
   "cell_type": "markdown",
   "metadata": {},
   "source": [
    "## Notes:\n",
    "- Dataset labels are balanced within each participant (3-3), and hence overall.\n",
    "- Outliers removed at end of this file\n",
    "- All features are naturally real-valued continuous variables\n",
    "    - Often naturally positive (before standardisation)\n",
    "- Data is stored in participant-order, and moreover in first-3-calm, second-3-stress within each participant."
   ]
  },
  {
   "cell_type": "code",
   "execution_count": 5,
   "metadata": {},
   "outputs": [
    {
     "name": "stdout",
     "output_type": "stream",
     "text": [
      "=== Datatypes ===\n",
      "subject_no      int64\n",
      "mean_AF3      float64\n",
      "mean_F7       float64\n",
      "mean_F3       float64\n",
      "mean_FC5      float64\n",
      "               ...   \n",
      "fuzzy_FC6     float64\n",
      "fuzzy_F4      float64\n",
      "fuzzy_F8      float64\n",
      "fuzzy_AF4     float64\n",
      "label           int64\n",
      "Length: 212, dtype: object\n"
     ]
    },
    {
     "data": {
      "text/html": [
       "<div>\n",
       "<style scoped>\n",
       "    .dataframe tbody tr th:only-of-type {\n",
       "        vertical-align: middle;\n",
       "    }\n",
       "\n",
       "    .dataframe tbody tr th {\n",
       "        vertical-align: top;\n",
       "    }\n",
       "\n",
       "    .dataframe thead th {\n",
       "        text-align: right;\n",
       "    }\n",
       "</style>\n",
       "<table border=\"1\" class=\"dataframe\">\n",
       "  <thead>\n",
       "    <tr style=\"text-align: right;\">\n",
       "      <th></th>\n",
       "      <th>mean_AF3</th>\n",
       "      <th>mean_F7</th>\n",
       "      <th>mean_F3</th>\n",
       "      <th>mean_FC5</th>\n",
       "      <th>mean_T7</th>\n",
       "      <th>mean_P7</th>\n",
       "      <th>mean_O1</th>\n",
       "      <th>mean_O2</th>\n",
       "      <th>mean_P8</th>\n",
       "      <th>mean_T8</th>\n",
       "      <th>...</th>\n",
       "      <th>fuzzy_P7</th>\n",
       "      <th>fuzzy_O1</th>\n",
       "      <th>fuzzy_O2</th>\n",
       "      <th>fuzzy_P8</th>\n",
       "      <th>fuzzy_T8</th>\n",
       "      <th>fuzzy_FC6</th>\n",
       "      <th>fuzzy_F4</th>\n",
       "      <th>fuzzy_F8</th>\n",
       "      <th>fuzzy_AF4</th>\n",
       "      <th>label</th>\n",
       "    </tr>\n",
       "  </thead>\n",
       "  <tbody>\n",
       "    <tr>\n",
       "      <th>0</th>\n",
       "      <td>0.004200</td>\n",
       "      <td>0.004551</td>\n",
       "      <td>0.004987</td>\n",
       "      <td>0.004289</td>\n",
       "      <td>0.004429</td>\n",
       "      <td>0.004809</td>\n",
       "      <td>0.004336</td>\n",
       "      <td>0.004537</td>\n",
       "      <td>0.004822</td>\n",
       "      <td>0.004726</td>\n",
       "      <td>...</td>\n",
       "      <td>3.168647</td>\n",
       "      <td>3.281732</td>\n",
       "      <td>3.362600</td>\n",
       "      <td>3.540720</td>\n",
       "      <td>3.518264</td>\n",
       "      <td>3.474538</td>\n",
       "      <td>3.280805</td>\n",
       "      <td>3.550478</td>\n",
       "      <td>3.279160</td>\n",
       "      <td>0</td>\n",
       "    </tr>\n",
       "    <tr>\n",
       "      <th>1</th>\n",
       "      <td>0.004199</td>\n",
       "      <td>0.004558</td>\n",
       "      <td>0.004992</td>\n",
       "      <td>0.004300</td>\n",
       "      <td>0.004436</td>\n",
       "      <td>0.004814</td>\n",
       "      <td>0.004340</td>\n",
       "      <td>0.004540</td>\n",
       "      <td>0.004826</td>\n",
       "      <td>0.004723</td>\n",
       "      <td>...</td>\n",
       "      <td>3.269024</td>\n",
       "      <td>3.295630</td>\n",
       "      <td>3.361410</td>\n",
       "      <td>3.509666</td>\n",
       "      <td>3.492213</td>\n",
       "      <td>3.514523</td>\n",
       "      <td>3.282508</td>\n",
       "      <td>3.507425</td>\n",
       "      <td>3.355210</td>\n",
       "      <td>0</td>\n",
       "    </tr>\n",
       "    <tr>\n",
       "      <th>2</th>\n",
       "      <td>0.004182</td>\n",
       "      <td>0.004551</td>\n",
       "      <td>0.005003</td>\n",
       "      <td>0.004327</td>\n",
       "      <td>0.004425</td>\n",
       "      <td>0.004804</td>\n",
       "      <td>0.004335</td>\n",
       "      <td>0.004534</td>\n",
       "      <td>0.004822</td>\n",
       "      <td>0.004712</td>\n",
       "      <td>...</td>\n",
       "      <td>3.142487</td>\n",
       "      <td>3.355626</td>\n",
       "      <td>3.460594</td>\n",
       "      <td>3.604878</td>\n",
       "      <td>3.700425</td>\n",
       "      <td>2.583535</td>\n",
       "      <td>3.419328</td>\n",
       "      <td>3.259507</td>\n",
       "      <td>3.532091</td>\n",
       "      <td>0</td>\n",
       "    </tr>\n",
       "    <tr>\n",
       "      <th>3</th>\n",
       "      <td>0.004217</td>\n",
       "      <td>0.004577</td>\n",
       "      <td>0.005002</td>\n",
       "      <td>0.004295</td>\n",
       "      <td>0.004435</td>\n",
       "      <td>0.004811</td>\n",
       "      <td>0.004368</td>\n",
       "      <td>0.004541</td>\n",
       "      <td>0.004823</td>\n",
       "      <td>0.004726</td>\n",
       "      <td>...</td>\n",
       "      <td>3.457550</td>\n",
       "      <td>3.491309</td>\n",
       "      <td>3.612129</td>\n",
       "      <td>3.713187</td>\n",
       "      <td>3.783315</td>\n",
       "      <td>3.555657</td>\n",
       "      <td>3.401660</td>\n",
       "      <td>2.955147</td>\n",
       "      <td>3.430246</td>\n",
       "      <td>1</td>\n",
       "    </tr>\n",
       "    <tr>\n",
       "      <th>4</th>\n",
       "      <td>0.004178</td>\n",
       "      <td>0.004570</td>\n",
       "      <td>0.005012</td>\n",
       "      <td>0.004328</td>\n",
       "      <td>0.004435</td>\n",
       "      <td>0.004806</td>\n",
       "      <td>0.004337</td>\n",
       "      <td>0.004539</td>\n",
       "      <td>0.004823</td>\n",
       "      <td>0.004726</td>\n",
       "      <td>...</td>\n",
       "      <td>3.703938</td>\n",
       "      <td>3.571311</td>\n",
       "      <td>3.707370</td>\n",
       "      <td>3.845911</td>\n",
       "      <td>3.798872</td>\n",
       "      <td>1.159561</td>\n",
       "      <td>0.967611</td>\n",
       "      <td>2.196881</td>\n",
       "      <td>1.292036</td>\n",
       "      <td>1</td>\n",
       "    </tr>\n",
       "  </tbody>\n",
       "</table>\n",
       "<p>5 rows × 211 columns</p>\n",
       "</div>"
      ],
      "text/plain": [
       "   mean_AF3   mean_F7   mean_F3  mean_FC5   mean_T7   mean_P7   mean_O1  \\\n",
       "0  0.004200  0.004551  0.004987  0.004289  0.004429  0.004809  0.004336   \n",
       "1  0.004199  0.004558  0.004992  0.004300  0.004436  0.004814  0.004340   \n",
       "2  0.004182  0.004551  0.005003  0.004327  0.004425  0.004804  0.004335   \n",
       "3  0.004217  0.004577  0.005002  0.004295  0.004435  0.004811  0.004368   \n",
       "4  0.004178  0.004570  0.005012  0.004328  0.004435  0.004806  0.004337   \n",
       "\n",
       "    mean_O2   mean_P8   mean_T8  ...  fuzzy_P7  fuzzy_O1  fuzzy_O2  fuzzy_P8  \\\n",
       "0  0.004537  0.004822  0.004726  ...  3.168647  3.281732  3.362600  3.540720   \n",
       "1  0.004540  0.004826  0.004723  ...  3.269024  3.295630  3.361410  3.509666   \n",
       "2  0.004534  0.004822  0.004712  ...  3.142487  3.355626  3.460594  3.604878   \n",
       "3  0.004541  0.004823  0.004726  ...  3.457550  3.491309  3.612129  3.713187   \n",
       "4  0.004539  0.004823  0.004726  ...  3.703938  3.571311  3.707370  3.845911   \n",
       "\n",
       "   fuzzy_T8  fuzzy_FC6  fuzzy_F4  fuzzy_F8  fuzzy_AF4  label  \n",
       "0  3.518264   3.474538  3.280805  3.550478   3.279160      0  \n",
       "1  3.492213   3.514523  3.282508  3.507425   3.355210      0  \n",
       "2  3.700425   2.583535  3.419328  3.259507   3.532091      0  \n",
       "3  3.783315   3.555657  3.401660  2.955147   3.430246      1  \n",
       "4  3.798872   1.159561  0.967611  2.196881   1.292036      1  \n",
       "\n",
       "[5 rows x 211 columns]"
      ]
     },
     "execution_count": 5,
     "metadata": {},
     "output_type": "execute_result"
    }
   ],
   "source": [
    "features = pd.read_excel('./data/features_by_participant.xlsx')\n",
    "print(\"=== Datatypes ===\")\n",
    "print(features.dtypes) # Excel uses 64-bit precision\n",
    "# Drop participant number. Participants are in order (6 rows each).\n",
    "features.drop(features.columns[0], axis=1, inplace=True)\n",
    "# Convert label from (1=calm, 2=stress) to (0=calm, 1=stress) (sigmoid)\n",
    "features['label'] = features['label'].map({1: 0, 2: 1})\n",
    "# List first few rows (for sanity check)\n",
    "features.head()"
   ]
  },
  {
   "cell_type": "code",
   "execution_count": 6,
   "metadata": {},
   "outputs": [
    {
     "name": "stdout",
     "output_type": "stream",
     "text": [
      "tensor([[-0.4080,  0.2138,  0.0378,  ..., -0.0126, -0.3544,  0.0000],\n",
      "        [-0.4380,  0.2734,  0.0528,  ..., -0.0557, -0.2691,  0.0000],\n",
      "        [-0.8972,  0.2105,  0.0896,  ..., -0.3035, -0.0709,  0.0000],\n",
      "        [ 0.0547,  0.4411,  0.0858,  ..., -0.6077, -0.1851,  1.0000],\n",
      "        [-0.9915,  0.3778,  0.1146,  ..., -1.3657, -2.5812,  1.0000]])\n"
     ]
    }
   ],
   "source": [
    "# Convert to Pytorch tensor. Keep 64-bit precision while normalising.\n",
    "Xy = torch.Tensor(features.to_numpy(dtype='float64'))\n",
    "# Normalize input features\n",
    "X = Xy[:,:-1]\n",
    "Xy[:,:-1] = (X - X.mean(axis=0)) / X.std(axis=0)\n",
    "# Now truncate to 32-bit precision (Pytorch default) (TODO: try bfloat16?)\n",
    "Xy = Xy.to(dtype=torch.float32)\n",
    "# Save to file\n",
    "torch.save(Xy, './data/features_processed_all.pt')\n",
    "# Sanity check: first 5 rows\n",
    "print(Xy[:5,:])"
   ]
  },
  {
   "cell_type": "code",
   "execution_count": 7,
   "metadata": {},
   "outputs": [
    {
     "data": {
      "image/png": "[encoded data removed]",
      "text/plain": [
       "<Figure size 640x480 with 1 Axes>"
      ]
     },
     "metadata": {},
     "output_type": "display_data"
    }
   ],
   "source": [
    "# Perform PCA for zero-centred unit-variance input features\n",
    "import numpy as np\n",
    "import matplotlib.pyplot as plt\n",
    "U, S, V = np.linalg.svd(X)\n",
    "n_pc = 2 # Number of principal components to display\n",
    "proj = U[:,:n_pc]*S[:n_pc] # Projected data\n",
    "\n",
    "# Rough plot of first 2 principal components (colour=calm/stress)\n",
    "plt.scatter(proj[:,0], proj[:,1], c=Xy[:,-1])\n",
    "plt.xlabel('PC1')\n",
    "plt.ylabel('PC2')\n",
    "plt.title(\"Largest principle components of input features\")\n",
    "plt.show()"
   ]
  },
  {
   "cell_type": "code",
   "execution_count": 8,
   "metadata": {},
   "outputs": [
    {
     "name": "stdout",
     "output_type": "stream",
     "text": [
      "Outlier idx: [array([24, 25, 26, 27, 28, 29, 30, 31, 32, 33, 34, 35])]\n",
      "Total variance: 209.99998474121094\n",
      "PC1 variance: 84.93890380859375 (40.45%%)\n",
      "PC2 variance: 27.74299430847168 (13.21%%)\n"
     ]
    }
   ],
   "source": [
    "# Top-left coincidentally has 6 calm and 6 stressed, as if two participants...\n",
    "# Check which rows are PC1 outliers. Reveals participants 4 and 5 (rows 24-35) (zero-indexed)\n",
    "outlier_idx = np.where(proj[:,0] < -15)\n",
    "print(f\"Outlier idx: {list(outlier_idx)}\")\n",
    "# How significant are the outliers? Fraction of variance explained:\n",
    "pc_variances = S**2 / (X.shape[0]-1)\n",
    "tot_var = np.sum(pc_variances)\n",
    "pc1_var, pc2_var = pc_variances[:2]\n",
    "print(f\"Total variance: {tot_var}\")\n",
    "print(f\"PC1 variance: {pc1_var} ({pc1_var/tot_var:.2%}%)\")\n",
    "print(f\"PC2 variance: {pc2_var} ({pc2_var/tot_var:.2%}%)\") # For comparison"
   ]
  },
  {
   "cell_type": "code",
   "execution_count": 9,
   "metadata": {},
   "outputs": [],
   "source": [
    "# Remove outliers and save to file\n",
    "Xy_no_outliers = torch.cat((Xy[:24,:], Xy[36:,:]))\n",
    "torch.save(Xy_no_outliers, './data/features_processed_no_outliers.pt')"
   ]
  },
  {
   "cell_type": "code",
   "execution_count": 10,
   "metadata": {},
   "outputs": [
    {
     "data": {
      "text/plain": [
       "<matplotlib.legend.Legend at 0x2c6e860d0>"
      ]
     },
     "execution_count": 10,
     "metadata": {},
     "output_type": "execute_result"
    },
    {
     "data": {
      "image/png": "[encoded data removed]",
      "text/plain": [
       "<Figure size 500x350 with 1 Axes>"
      ]
     },
     "metadata": {},
     "output_type": "display_data"
    }
   ],
   "source": [
    "# Create more informative plot for paper\n",
    "import seaborn as sns\n",
    "from cycler import cycler\n",
    "\n",
    "fig, ax = plt.subplots(figsize=(5,3.5))\n",
    "ax.set_xlabel('1st Principal Component')\n",
    "ax.set_ylabel('2nd Principal Component')\n",
    "#ax.set_title(\"Principal components\")\n",
    "\n",
    "# Note data is stored in first-3-calm, last-3-stress order\n",
    "\n",
    "# Outlier participants in distinctive colour (black)\n",
    "plt.scatter(proj[24:27,0], proj[24:27,1], marker='s', c='k')\n",
    "plt.scatter(proj[27:30,0], proj[27:30,1], marker='^', c='k')\n",
    "plt.scatter(proj[30:33,0], proj[30:33,1], marker='s', facecolors='none', color='k')\n",
    "plt.scatter(proj[33:36,0], proj[33:36,1], marker='^', facecolors='none', color='k')\n",
    "\n",
    "# Plot all other participants\n",
    "# (6 colors, 4 fill styles)\n",
    "color_cycle = cycler(color=sns.husl_palette(n_colors=6, h=0.01, s=1, l=0.65))\n",
    "fill_cycle = cycler(hatch=['', '', '/////', '....'], facecolors=[None, 'none', 'none', 'none'])\n",
    "style_cycle = iter(color_cycle * fill_cycle)\n",
    "\n",
    "#{'linewidths': 1}\n",
    "for p in list(range(4))+list(range(6,24)):\n",
    "  i = p*6 # 6 rows per subject\n",
    "  style=next(style_cycle)\n",
    "  # Calm: square\n",
    "  plt.scatter(proj[i:i+3,0], proj[i:i+3,1], marker='s', **style)\n",
    "  # Stress: triangle\n",
    "  plt.scatter(proj[i+3:i+6,0], proj[i+3:i+6,1], marker='^', **style)\n",
    "\n",
    "# Generate legend for outliers\n",
    "# https://stackoverflow.com/questions/31478077/how-to-make-two-markers-share-the-same-label-in-the-legend\n",
    "# https://matplotlib.org/stable/gallery/text_labels_and_annotations/custom_legends.html\n",
    "\n",
    "lgnd_elems = [\n",
    "  plt.scatter([], [], marker='s', c='k', label='P4 (calm)'),\n",
    "  plt.scatter([], [], marker='^', c='k', label='P4 (stress)'),\n",
    "  plt.scatter([], [], marker='s', color='k', label='P5 (calm)', facecolors='none'),\n",
    "  plt.scatter([], [], marker='^', color='k', label='P5 (stress)', facecolors='none')\n",
    "]\n",
    "\n",
    "ax.set_facecolor('#f8f8f8')\n",
    "ax.legend(handles=lgnd_elems)\n",
    "\n",
    "#plt.savefig('../draft/pca.pdf', bbox_inches='tight') #pdf is a vector format."
   ]
  },
  {
   "cell_type": "code",
   "execution_count": 11,
   "metadata": {},
   "outputs": [
    {
     "name": "stdout",
     "output_type": "stream",
     "text": [
      "Index(['mean_AF3', 'mean_F7', 'mean_F3', 'mean_FC5', 'mean_T7', 'mean_P7',\n",
      "       'mean_O1', 'mean_O2', 'mean_P8', 'mean_T8',\n",
      "       ...\n",
      "       'fuzzy_P7', 'fuzzy_O1', 'fuzzy_O2', 'fuzzy_P8', 'fuzzy_T8', 'fuzzy_FC6',\n",
      "       'fuzzy_F4', 'fuzzy_F8', 'fuzzy_AF4', 'label'],\n",
      "      dtype='object', length=211)\n"
     ]
    }
   ],
   "source": [
    "# Check labels for generating feature subsets\n",
    "print(features.columns)"
   ]
  },
  {
   "cell_type": "code",
   "execution_count": 12,
   "metadata": {},
   "outputs": [],
   "source": [
    "# Generate feature subsets\n",
    "import re\n",
    "\n",
    "get_feat = lambda regex: [l for l in features.columns if re.fullmatch(regex, l)]\n",
    "# Convert to indices, and add last column (target)\n",
    "get_idx = lambda names: [features.columns.get_loc(n) for n in names] + [-1]\n",
    "\n",
    "# Just lobe F7\n",
    "f7 = get_feat(r\".*_F7\")\n",
    "Xy_f7 = Xy_no_outliers[:,get_idx(f7)] \n",
    "torch.save(Xy_f7, './data/features_processed_f7.pt')"
   ]
  },
  {
   "cell_type": "code",
   "execution_count": null,
   "metadata": {},
   "outputs": [],
   "source": []
  }
 ],
 "metadata": {
  "kernelspec": {
   "display_name": "comp4660",
   "language": "python",
   "name": "python3"
  },
  "language_info": {
   "codemirror_mode": {
    "name": "ipython",
    "version": 3
   },
   "file_extension": ".py",
   "mimetype": "text/x-python",
   "name": "python",
   "nbconvert_exporter": "python",
   "pygments_lexer": "ipython3",
   "version": "3.11.7"
  },
  "orig_nbformat": 4
 },
 "nbformat": 4,
 "nbformat_minor": 2
}
